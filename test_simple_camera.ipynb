{
  "nbformat": 4,
  "nbformat_minor": 0,
  "metadata": {
    "colab": {
      "name": "Untitled3.ipynb",
      "provenance": [],
      "private_outputs": true,
      "collapsed_sections": [],
      "include_colab_link": true
    },
    "kernelspec": {
      "name": "python3",
      "display_name": "Python 3"
    }
  },
  "cells": [
    {
      "cell_type": "markdown",
      "metadata": {
        "id": "view-in-github",
        "colab_type": "text"
      },
      "source": [
        "<a href=\"https://colab.research.google.com/github/raushanraj/poc_likethat/blob/master/test_simple_camera.ipynb\" target=\"_parent\"><img src=\"https://colab.research.google.com/assets/colab-badge.svg\" alt=\"Open In Colab\"/></a>"
      ]
    },
    {
      "cell_type": "code",
      "metadata": {
        "id": "CUCLvoZh95br",
        "colab_type": "code",
        "colab": {}
      },
      "source": [
        "\n",
        "import IPython\n",
        "camera_code = '''\n",
        "const div = document.createElement('div');const video = document.createElement('video');video.style.display = 'block';document.body.appendChild(div);div.appendChild(video);navigator.mediaDevices.getUserMedia({ video: true }).then(function (stream){video.srcObject = stream;video.play();});\n",
        "'''\n",
        "\n",
        "\n",
        "IPython.display.Javascript(camera_code)"
      ],
      "execution_count": 0,
      "outputs": []
    }
  ]
}